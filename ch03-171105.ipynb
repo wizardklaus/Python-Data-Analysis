{
 "cells": [
  {
   "cell_type": "code",
   "execution_count": null,
   "metadata": {
    "collapsed": true
   },
   "outputs": [],
   "source": [
    "# ? 을 사용하면 설명을 보여준다.\n",
    "def add_numbers(a, b):\n",
    "    \"\"\"\n",
    "    add two numbers into one\n",
    "    \"\"\"\n",
    "    return a + b\n",
    "add_numbers?"
   ]
  },
  {
   "cell_type": "code",
   "execution_count": null,
   "metadata": {
    "collapsed": true
   },
   "outputs": [],
   "source": [
    "# ?? 을 사용하면 함수의 소스코드를 보여준다.\n",
    "def add_numbers(a, b):\n",
    "    return a + b\n",
    "add_numbers??"
   ]
  },
  {
   "cell_type": "code",
   "execution_count": null,
   "metadata": {},
   "outputs": [],
   "source": [
    "# *%%*? 같은 경우 네임스페이스를 검색하는데 사용할 수 있다.\n",
    "# ex) np.*load* 를 입력하면 load를 포함하는 모든 함수를 가져온다.\n",
    "import numpy as np\n",
    "np.*load*?"
   ]
  },
  {
   "cell_type": "code",
   "execution_count": null,
   "metadata": {
    "collapsed": true
   },
   "outputs": [],
   "source": [
    "# %run 명령어를 사용해 실행할 수 있다.\n",
    "%run script.py"
   ]
  },
  {
   "cell_type": "code",
   "execution_count": null,
   "metadata": {
    "collapsed": true
   },
   "outputs": [],
   "source": [
    "# %timeit 메소드를 사용해서 함수가 동작된 시간을 잴 수 있다.\n",
    "import numpy as np\n",
    "a = np.random.randn(100, 100)\n",
    "%timeit np.dot(a, a)"
   ]
  },
  {
   "cell_type": "code",
   "execution_count": null,
   "metadata": {},
   "outputs": [],
   "source": [
    "# crosstab 은 교차표를 만들어준다.\n",
    "# pandas.crosstab(index, columns, values=None, rownames=None, colnames=None, \n",
    "# aggfunc=None, margins=False, margins_name='All', dropna=True, normalize=False)\n",
    "import numpy as np\n",
    "import pandas as pd\n",
    "a = np.array([\"foo\", \"foo\", \"foo\", \"foo\", \"bar\", \"bar\",\n",
    "              \"bar\", \"bar\", \"foo\", \"foo\", \"foo\"], dtype=object)\n",
    "b = np.array([\"one\", \"one\", \"one\", \"two\", \"one\", \"one\",\n",
    "              \"one\", \"two\", \"two\", \"two\", \"one\"], dtype=object)\n",
    "c = np.array([\"dull\", \"dull\", \"shiny\", \"dull\", \"dull\", \"shiny\",\n",
    "              \"shiny\", \"dull\", \"shiny\", \"shiny\", \"shiny\"], dtype=object)\n",
    "pd.crosstab(a, [b, c], rownames=['a'], colnames=['b', 'c'])\n",
    "\n",
    "# crosstab은 교차표를 생성해주고,\n",
    "# 위 표와 같은 경우 b의 각 해당하는 c부분을 열로 해서 (4개) a를 행으로 나타내준다."
   ]
  },
  {
   "cell_type": "markdown",
   "metadata": {},
   "source": [
    "#### magic 명령어\n",
    "- ipython은 특수한 명령어들을 포함하고있다.\n",
    "- %automagic을 이용하면 % 기호 없이도 사용가능\n",
    "- %quickref, %magic 으로 명령어들을 확인\n",
    "---\n",
    "#### Qt 기반의 GUI 콘솔\n",
    "- PyQt나 PySide가 설치 되어있다면  \n",
    "ipython qtconsole --pylab=inline\n",
    "---\n",
    "#### Pylab모드와 Matplotlib 통합\n",
    "- IPython을 matplotlib과 함께 사용하려면 --pylab 옵션을 설정하고 실행  \n",
    "ipython --pylab\n",
    "---\n",
    "#### 입,출력 변수\n",
    "- IPython은 입력한 내용과 출력된 결과물 둘 다 특수한 변수에 저장한다.\n",
    "- 27번 줄의 경우 출력결과는 \\_27에 입력결과는 \\_i27에 저장된다.\n",
    "- 매우 큰 데이터를 다룰 때 %xdel과 %reset을 신중하게 사용하여 메모리 문제를 피할 수 있다.\n",
    "---\n",
    "#### 입,출력 기록하기\n",
    "- %logstart, %logoff, %logon, %logstate, %logstop을 사용하여 기록가능\n",
    "-\n",
    "---\n",
    "#### 운영체제와 함께 사용하기\n",
    "- !cmd, output = !cmd args, %alias alias_name cmd, %bookmark, %cd directory\n",
    "- %pwd, %pushd directory, %popd, %dirs, %dhist, %env\n",
    "---\n",
    "#### 소프트웨어 개발 도구\n",
    "- pdb 디버거, %debug, %pdb"
   ]
  },
  {
   "cell_type": "markdown",
   "metadata": {},
   "source": [
    "#### debugging"
   ]
  },
  {
   "cell_type": "code",
   "execution_count": null,
   "metadata": {},
   "outputs": [],
   "source": [
    "# 디버거를 실행하는 방법 1 : set_trace 함수를 이용\n",
    "# 가난뱅이의 브레이크포인트라고 불리는 것이다.\n",
    "def set_trace():\n",
    "    from Python.core.debugger import Pdb\n",
    "    Pdb(color_scheme='Linux').set_trace(sys._getframe().f_back)\n",
    "\n",
    "def debug(f, *args, **kwargs):\n",
    "    from IPython.core.debugger import Pdb\n",
    "    pdb = Pdb(color_scheme='Linux')\n",
    "    return pdb.runcall(f, *arge, **kwargs)\n",
    "\n",
    "'''\n",
    "첫 번째 함수인 set_trace()는 코드의 아무 곳에서 놓으면 그곳에서 실행을 멈추고 살펴볼 수 있다.\n",
    "debug 함수는 어떤 함수 호출에서라도 대화형 디버거를 쉽게 실행할 수 있도록 해준다.\n",
    "'''"
   ]
  },
  {
   "cell_type": "markdown",
   "metadata": {},
   "source": [
    "#### 시간 측정"
   ]
  },
  {
   "cell_type": "code",
   "execution_count": null,
   "metadata": {
    "collapsed": true
   },
   "outputs": [],
   "source": [
    "# 내장된 time 모듈을 이용해서 time.clock, time.time 함수로 직접 시간 측정 코드를 작성할 수 있다.\n",
    "import time\n",
    "start = time.time()\n",
    "for i in range(iterations):\n",
    "    # some code to run here\n",
    "elapsed_per = (time.time() - start) / iterations"
   ]
  },
  {
   "cell_type": "code",
   "execution_count": 1,
   "metadata": {},
   "outputs": [
    {
     "name": "stdout",
     "output_type": "stream",
     "text": [
      "Wall time: 252 ms\n",
      "Wall time: 149 ms\n"
     ]
    }
   ],
   "source": [
    "# IPython에서는 %time과 %timeit이라는 매직함수가 있다.\n",
    "# time은 한 문장을 실행하고 소요된 전체 실행 시간을 알려준다.\n",
    "\n",
    "# %time은 실행 때마다 달라짐, timeit은 여러번 시행해서 평균값을 산출\n",
    "strings = ['foo', 'foobar', 'baz', 'qux', 'python', 'Guido Van Rossum'] * 100000\n",
    "%time method1 = [x for x in strings if x.startswith('foo')]\n",
    "%time method2 = [x for x in strings if x[:3] == 'foo']"
   ]
  },
  {
   "cell_type": "code",
   "execution_count": 2,
   "metadata": {},
   "outputs": [
    {
     "name": "stdout",
     "output_type": "stream",
     "text": [
      "1 loop, best of 3: 148 ms per loop\n",
      "10 loops, best of 3: 106 ms per loop\n"
     ]
    }
   ],
   "source": [
    "# %timeit\n",
    "strings = ['foo', 'foobar', 'baz', 'qux', 'python', 'Guido Van Rossum'] * 100000\n",
    "%timeit method1 = [x for x in strings if x.startswith('foo')]\n",
    "%timeit method2 = [x for x in strings if x[:3] == 'foo']"
   ]
  },
  {
   "cell_type": "code",
   "execution_count": null,
   "metadata": {
    "collapsed": true
   },
   "outputs": [],
   "source": []
  },
  {
   "cell_type": "code",
   "execution_count": null,
   "metadata": {
    "collapsed": true
   },
   "outputs": [],
   "source": []
  },
  {
   "cell_type": "code",
   "execution_count": null,
   "metadata": {
    "collapsed": true
   },
   "outputs": [],
   "source": []
  }
 ],
 "metadata": {
  "kernelspec": {
   "display_name": "Python 3",
   "language": "python",
   "name": "python3"
  },
  "language_info": {
   "codemirror_mode": {
    "name": "ipython",
    "version": 3
   },
   "file_extension": ".py",
   "mimetype": "text/x-python",
   "name": "python",
   "nbconvert_exporter": "python",
   "pygments_lexer": "ipython3",
   "version": "3.6.1"
  }
 },
 "nbformat": 4,
 "nbformat_minor": 2
}
